{
 "cells": [
  {
   "cell_type": "markdown",
   "metadata": {},
   "source": [
    "# Visualisation of Raw Data\n",
    "\n",
    "Here we will visualise the raw data."
   ]
  },
  {
   "cell_type": "markdown",
   "metadata": {},
   "source": [
    "### Import libraries:\n",
    "\n",
    "(Note: this may take a while.)"
   ]
  },
  {
   "cell_type": "code",
   "execution_count": 1,
   "metadata": {},
   "outputs": [],
   "source": [
    "import pandas as pd\n",
    "import matplotlib.pyplot as plt"
   ]
  },
  {
   "cell_type": "markdown",
   "metadata": {},
   "source": [
    "### Load the file\n",
    "\n",
    "Load the external `.csv` file, and load into local variable."
   ]
  },
  {
   "cell_type": "code",
   "execution_count": 2,
   "metadata": {},
   "outputs": [],
   "source": [
    "data_frame = pd.read_csv('raw_data.csv', delimiter = ',')"
   ]
  },
  {
   "cell_type": "markdown",
   "metadata": {},
   "source": [
    "### Info about data\n",
    "\n",
    "Includes:\n",
    " - Column\n",
    " - Non-null Count\n",
    " - Data-type"
   ]
  },
  {
   "cell_type": "code",
   "execution_count": 3,
   "metadata": {},
   "outputs": [
    {
     "name": "stdout",
     "output_type": "stream",
     "text": [
      "<class 'pandas.core.frame.DataFrame'>\n",
      "RangeIndex: 13647 entries, 0 to 13646\n",
      "Data columns (total 20 columns):\n",
      " #   Column             Non-Null Count  Dtype  \n",
      "---  ------             --------------  -----  \n",
      " 0   time               13647 non-null  object \n",
      " 1   wmo                13647 non-null  int64  \n",
      " 2   name               13647 non-null  object \n",
      " 3   history_product    13647 non-null  object \n",
      " 4   air_temp           13647 non-null  float64\n",
      " 5   apparent_t         13638 non-null  float64\n",
      " 6   dewpt              13647 non-null  float64\n",
      " 7   rel_hum            13647 non-null  int64  \n",
      " 8   delta_t            13647 non-null  float64\n",
      " 9   wind_dir_deg       13638 non-null  float64\n",
      " 10  wind_spd_kmh       13638 non-null  float64\n",
      " 11  gust_kmh           13631 non-null  float64\n",
      " 12  rain_trace         13385 non-null  float64\n",
      " 13  rain_ten           13617 non-null  float64\n",
      " 14  rain_hour          13588 non-null  float64\n",
      " 15  duration_from_9am  13385 non-null  float64\n",
      " 16  press              13644 non-null  float64\n",
      " 17  lat                13647 non-null  float64\n",
      " 18  lon                13647 non-null  float64\n",
      " 19  location           13647 non-null  object \n",
      "dtypes: float64(14), int64(2), object(4)\n",
      "memory usage: 2.1+ MB\n"
     ]
    }
   ],
   "source": [
    "data_frame.info()"
   ]
  },
  {
   "cell_type": "markdown",
   "metadata": {},
   "source": [
    "### Statistics\n",
    "\n",
    "Includes:\n",
    " - Count\n",
    " - Mean\n",
    " - Standard deviation\n",
    " - Minimum\n",
    " - 25th percentile\n",
    " - Median\n",
    " - 75th percentile\n",
    " - Maximum"
   ]
  },
  {
   "cell_type": "code",
   "execution_count": 4,
   "metadata": {},
   "outputs": [
    {
     "data": {
      "application/vnd.microsoft.datawrangler.viewer.v0+json": {
       "columns": [
        {
         "name": "index",
         "rawType": "object",
         "type": "string"
        },
        {
         "name": "air_temp",
         "rawType": "float64",
         "type": "float"
        },
        {
         "name": "apparent_t",
         "rawType": "float64",
         "type": "float"
        },
        {
         "name": "dewpt",
         "rawType": "float64",
         "type": "float"
        },
        {
         "name": "rel_hum",
         "rawType": "float64",
         "type": "float"
        },
        {
         "name": "delta_t",
         "rawType": "float64",
         "type": "float"
        },
        {
         "name": "wind_dir_deg",
         "rawType": "float64",
         "type": "float"
        },
        {
         "name": "wind_spd_kmh",
         "rawType": "float64",
         "type": "float"
        },
        {
         "name": "gust_kmh",
         "rawType": "float64",
         "type": "float"
        },
        {
         "name": "rain_trace",
         "rawType": "float64",
         "type": "float"
        },
        {
         "name": "rain_ten",
         "rawType": "float64",
         "type": "float"
        },
        {
         "name": "rain_hour",
         "rawType": "float64",
         "type": "float"
        },
        {
         "name": "duration_from_9am",
         "rawType": "float64",
         "type": "float"
        },
        {
         "name": "press",
         "rawType": "float64",
         "type": "float"
        }
       ],
       "conversionMethod": "pd.DataFrame",
       "ref": "dfd4f260-ce53-45ad-b1e5-7ae32bcc41e5",
       "rows": [
        [
         "count",
         "13647.0",
         "13638.0",
         "13647.0",
         "13647.0",
         "13647.0",
         "13638.0",
         "13638.0",
         "13631.0",
         "13385.0",
         "13617.0",
         "13588.0",
         "13385.0",
         "13644.0"
        ],
        [
         "mean",
         "18.81341686817615",
         "15.898570171579411",
         "12.270865391661172",
         "68.50010991426687",
         "3.5015387997362057",
         "183.08703622232",
         "20.601334506525884",
         "27.172767955395788",
         "1.6364661935001867",
         "0.022266284791069985",
         "0.12974683544303797",
         "727.6852446768771",
         "1017.3462987393725"
        ],
        [
         "std",
         "5.148093888546301",
         "6.407123485976242",
         "5.766975376138482",
         "17.673533460512555",
         "2.4149855156266096",
         "103.76436791306564",
         "10.447792723257315",
         "13.955200650624702",
         "6.992598185379252",
         "0.2054145271660908",
         "0.9026386223744476",
         "421.32363252913086",
         "7.162183355378604"
        ],
        [
         "min",
         "5.6",
         "-1.1",
         "-12.3",
         "7.0",
         "0.2",
         "0.0",
         "0.0",
         "0.0",
         "0.0",
         "0.0",
         "0.0",
         "5.0",
         "992.9"
        ],
        [
         "25%",
         "14.8",
         "11.0",
         "8.0",
         "58.0",
         "1.8",
         "100.0",
         "13.0",
         "17.0",
         "0.0",
         "0.0",
         "0.0",
         "360.0",
         "1012.0"
        ],
        [
         "50%",
         "19.1",
         "16.1",
         "12.7",
         "71.0",
         "3.0",
         "183.0",
         "19.0",
         "26.0",
         "0.0",
         "0.0",
         "0.0",
         "720.0",
         "1017.2"
        ],
        [
         "75%",
         "22.5",
         "20.9",
         "17.1",
         "82.0",
         "4.6",
         "275.0",
         "28.0",
         "35.0",
         "0.2",
         "0.0",
         "0.0",
         "1110.0",
         "1022.2"
        ],
        [
         "max",
         "41.5",
         "39.5",
         "24.1",
         "98.0",
         "17.3",
         "360.0",
         "70.0",
         "100.0",
         "81.4",
         "6.6",
         "28.4",
         "1440.0",
         "1039.6"
        ]
       ],
       "shape": {
        "columns": 13,
        "rows": 8
       }
      },
      "text/html": [
       "<div>\n",
       "<style scoped>\n",
       "    .dataframe tbody tr th:only-of-type {\n",
       "        vertical-align: middle;\n",
       "    }\n",
       "\n",
       "    .dataframe tbody tr th {\n",
       "        vertical-align: top;\n",
       "    }\n",
       "\n",
       "    .dataframe thead th {\n",
       "        text-align: right;\n",
       "    }\n",
       "</style>\n",
       "<table border=\"1\" class=\"dataframe\">\n",
       "  <thead>\n",
       "    <tr style=\"text-align: right;\">\n",
       "      <th></th>\n",
       "      <th>air_temp</th>\n",
       "      <th>apparent_t</th>\n",
       "      <th>dewpt</th>\n",
       "      <th>rel_hum</th>\n",
       "      <th>delta_t</th>\n",
       "      <th>wind_dir_deg</th>\n",
       "      <th>wind_spd_kmh</th>\n",
       "      <th>gust_kmh</th>\n",
       "      <th>rain_trace</th>\n",
       "      <th>rain_ten</th>\n",
       "      <th>rain_hour</th>\n",
       "      <th>duration_from_9am</th>\n",
       "      <th>press</th>\n",
       "    </tr>\n",
       "  </thead>\n",
       "  <tbody>\n",
       "    <tr>\n",
       "      <th>count</th>\n",
       "      <td>13647.000000</td>\n",
       "      <td>13638.000000</td>\n",
       "      <td>13647.000000</td>\n",
       "      <td>13647.000000</td>\n",
       "      <td>13647.000000</td>\n",
       "      <td>13638.000000</td>\n",
       "      <td>13638.000000</td>\n",
       "      <td>13631.000000</td>\n",
       "      <td>13385.000000</td>\n",
       "      <td>13617.000000</td>\n",
       "      <td>13588.000000</td>\n",
       "      <td>13385.000000</td>\n",
       "      <td>13644.000000</td>\n",
       "    </tr>\n",
       "    <tr>\n",
       "      <th>mean</th>\n",
       "      <td>18.813417</td>\n",
       "      <td>15.898570</td>\n",
       "      <td>12.270865</td>\n",
       "      <td>68.500110</td>\n",
       "      <td>3.501539</td>\n",
       "      <td>183.087036</td>\n",
       "      <td>20.601335</td>\n",
       "      <td>27.172768</td>\n",
       "      <td>1.636466</td>\n",
       "      <td>0.022266</td>\n",
       "      <td>0.129747</td>\n",
       "      <td>727.685245</td>\n",
       "      <td>1017.346299</td>\n",
       "    </tr>\n",
       "    <tr>\n",
       "      <th>std</th>\n",
       "      <td>5.148094</td>\n",
       "      <td>6.407123</td>\n",
       "      <td>5.766975</td>\n",
       "      <td>17.673533</td>\n",
       "      <td>2.414986</td>\n",
       "      <td>103.764368</td>\n",
       "      <td>10.447793</td>\n",
       "      <td>13.955201</td>\n",
       "      <td>6.992598</td>\n",
       "      <td>0.205415</td>\n",
       "      <td>0.902639</td>\n",
       "      <td>421.323633</td>\n",
       "      <td>7.162183</td>\n",
       "    </tr>\n",
       "    <tr>\n",
       "      <th>min</th>\n",
       "      <td>5.600000</td>\n",
       "      <td>-1.100000</td>\n",
       "      <td>-12.300000</td>\n",
       "      <td>7.000000</td>\n",
       "      <td>0.200000</td>\n",
       "      <td>0.000000</td>\n",
       "      <td>0.000000</td>\n",
       "      <td>0.000000</td>\n",
       "      <td>0.000000</td>\n",
       "      <td>0.000000</td>\n",
       "      <td>0.000000</td>\n",
       "      <td>5.000000</td>\n",
       "      <td>992.900000</td>\n",
       "    </tr>\n",
       "    <tr>\n",
       "      <th>25%</th>\n",
       "      <td>14.800000</td>\n",
       "      <td>11.000000</td>\n",
       "      <td>8.000000</td>\n",
       "      <td>58.000000</td>\n",
       "      <td>1.800000</td>\n",
       "      <td>100.000000</td>\n",
       "      <td>13.000000</td>\n",
       "      <td>17.000000</td>\n",
       "      <td>0.000000</td>\n",
       "      <td>0.000000</td>\n",
       "      <td>0.000000</td>\n",
       "      <td>360.000000</td>\n",
       "      <td>1012.000000</td>\n",
       "    </tr>\n",
       "    <tr>\n",
       "      <th>50%</th>\n",
       "      <td>19.100000</td>\n",
       "      <td>16.100000</td>\n",
       "      <td>12.700000</td>\n",
       "      <td>71.000000</td>\n",
       "      <td>3.000000</td>\n",
       "      <td>183.000000</td>\n",
       "      <td>19.000000</td>\n",
       "      <td>26.000000</td>\n",
       "      <td>0.000000</td>\n",
       "      <td>0.000000</td>\n",
       "      <td>0.000000</td>\n",
       "      <td>720.000000</td>\n",
       "      <td>1017.200000</td>\n",
       "    </tr>\n",
       "    <tr>\n",
       "      <th>75%</th>\n",
       "      <td>22.500000</td>\n",
       "      <td>20.900000</td>\n",
       "      <td>17.100000</td>\n",
       "      <td>82.000000</td>\n",
       "      <td>4.600000</td>\n",
       "      <td>275.000000</td>\n",
       "      <td>28.000000</td>\n",
       "      <td>35.000000</td>\n",
       "      <td>0.200000</td>\n",
       "      <td>0.000000</td>\n",
       "      <td>0.000000</td>\n",
       "      <td>1110.000000</td>\n",
       "      <td>1022.200000</td>\n",
       "    </tr>\n",
       "    <tr>\n",
       "      <th>max</th>\n",
       "      <td>41.500000</td>\n",
       "      <td>39.500000</td>\n",
       "      <td>24.100000</td>\n",
       "      <td>98.000000</td>\n",
       "      <td>17.300000</td>\n",
       "      <td>360.000000</td>\n",
       "      <td>70.000000</td>\n",
       "      <td>100.000000</td>\n",
       "      <td>81.400000</td>\n",
       "      <td>6.600000</td>\n",
       "      <td>28.400000</td>\n",
       "      <td>1440.000000</td>\n",
       "      <td>1039.600000</td>\n",
       "    </tr>\n",
       "  </tbody>\n",
       "</table>\n",
       "</div>"
      ],
      "text/plain": [
       "           air_temp    apparent_t         dewpt       rel_hum       delta_t  \\\n",
       "count  13647.000000  13638.000000  13647.000000  13647.000000  13647.000000   \n",
       "mean      18.813417     15.898570     12.270865     68.500110      3.501539   \n",
       "std        5.148094      6.407123      5.766975     17.673533      2.414986   \n",
       "min        5.600000     -1.100000    -12.300000      7.000000      0.200000   \n",
       "25%       14.800000     11.000000      8.000000     58.000000      1.800000   \n",
       "50%       19.100000     16.100000     12.700000     71.000000      3.000000   \n",
       "75%       22.500000     20.900000     17.100000     82.000000      4.600000   \n",
       "max       41.500000     39.500000     24.100000     98.000000     17.300000   \n",
       "\n",
       "       wind_dir_deg  wind_spd_kmh      gust_kmh    rain_trace      rain_ten  \\\n",
       "count  13638.000000  13638.000000  13631.000000  13385.000000  13617.000000   \n",
       "mean     183.087036     20.601335     27.172768      1.636466      0.022266   \n",
       "std      103.764368     10.447793     13.955201      6.992598      0.205415   \n",
       "min        0.000000      0.000000      0.000000      0.000000      0.000000   \n",
       "25%      100.000000     13.000000     17.000000      0.000000      0.000000   \n",
       "50%      183.000000     19.000000     26.000000      0.000000      0.000000   \n",
       "75%      275.000000     28.000000     35.000000      0.200000      0.000000   \n",
       "max      360.000000     70.000000    100.000000     81.400000      6.600000   \n",
       "\n",
       "          rain_hour  duration_from_9am         press  \n",
       "count  13588.000000       13385.000000  13644.000000  \n",
       "mean       0.129747         727.685245   1017.346299  \n",
       "std        0.902639         421.323633      7.162183  \n",
       "min        0.000000           5.000000    992.900000  \n",
       "25%        0.000000         360.000000   1012.000000  \n",
       "50%        0.000000         720.000000   1017.200000  \n",
       "75%        0.000000        1110.000000   1022.200000  \n",
       "max       28.400000        1440.000000   1039.600000  "
      ]
     },
     "execution_count": 4,
     "metadata": {},
     "output_type": "execute_result"
    }
   ],
   "source": [
    "data_frame = data_frame.select_dtypes(include=['float64', 'int64'])\n",
    "data_frame = data_frame.drop(columns=['wmo', 'lat', 'lon'])\n",
    "data_frame.describe()"
   ]
  },
  {
   "cell_type": "code",
   "execution_count": 5,
   "metadata": {},
   "outputs": [
    {
     "name": "stdout",
     "output_type": "stream",
     "text": [
      "Skewness:\n",
      "air_temp              0.030047\n",
      "apparent_t           -0.043679\n",
      "dewpt                -0.412804\n",
      "rel_hum              -0.672205\n",
      "delta_t               1.387489\n",
      "wind_dir_deg         -0.158023\n",
      "wind_spd_kmh          0.837242\n",
      "gust_kmh              0.954444\n",
      "rain_trace            7.237378\n",
      "rain_ten             17.924453\n",
      "rain_hour            13.368051\n",
      "duration_from_9am     0.035108\n",
      "press                 0.088362\n",
      "dtype: float64\n"
     ]
    }
   ],
   "source": [
    "# Calculate skewness\n",
    "skewness = data_frame.skew()\n",
    "\n",
    "print(f\"Skewness:\\n{skewness}\")"
   ]
  }
 ],
 "metadata": {
  "kernelspec": {
   "display_name": "Python 3",
   "language": "python",
   "name": "python3"
  },
  "language_info": {
   "codemirror_mode": {
    "name": "ipython",
    "version": 3
   },
   "file_extension": ".py",
   "mimetype": "text/x-python",
   "name": "python",
   "nbconvert_exporter": "python",
   "pygments_lexer": "ipython3",
   "version": "3.12.9"
  }
 },
 "nbformat": 4,
 "nbformat_minor": 2
}
