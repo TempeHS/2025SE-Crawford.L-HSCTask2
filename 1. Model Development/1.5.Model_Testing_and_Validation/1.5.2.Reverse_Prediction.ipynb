{
 "cells": [
  {
   "cell_type": "markdown",
   "metadata": {},
   "source": [
    "# Reverse Prediction"
   ]
  },
  {
   "cell_type": "code",
   "execution_count": 1,
   "metadata": {},
   "outputs": [
    {
     "name": "stderr",
     "output_type": "stream",
     "text": [
      "2025-04-08 00:22:10.236872: I external/local_xla/xla/tsl/cuda/cudart_stub.cc:32] Could not find cuda drivers on your machine, GPU will not be used.\n",
      "2025-04-08 00:22:10.240330: I external/local_xla/xla/tsl/cuda/cudart_stub.cc:32] Could not find cuda drivers on your machine, GPU will not be used.\n",
      "2025-04-08 00:22:10.249216: E external/local_xla/xla/stream_executor/cuda/cuda_fft.cc:467] Unable to register cuFFT factory: Attempting to register factory for plugin cuFFT when one has already been registered\n",
      "WARNING: All log messages before absl::InitializeLog() is called are written to STDERR\n",
      "E0000 00:00:1744071730.264084   23085 cuda_dnn.cc:8579] Unable to register cuDNN factory: Attempting to register factory for plugin cuDNN when one has already been registered\n",
      "E0000 00:00:1744071730.268381   23085 cuda_blas.cc:1407] Unable to register cuBLAS factory: Attempting to register factory for plugin cuBLAS when one has already been registered\n",
      "W0000 00:00:1744071730.280478   23085 computation_placer.cc:177] computation placer already registered. Please check linkage and avoid linking the same target more than once.\n",
      "W0000 00:00:1744071730.280491   23085 computation_placer.cc:177] computation placer already registered. Please check linkage and avoid linking the same target more than once.\n",
      "W0000 00:00:1744071730.280493   23085 computation_placer.cc:177] computation placer already registered. Please check linkage and avoid linking the same target more than once.\n",
      "W0000 00:00:1744071730.280495   23085 computation_placer.cc:177] computation placer already registered. Please check linkage and avoid linking the same target more than once.\n",
      "2025-04-08 00:22:10.284448: I tensorflow/core/platform/cpu_feature_guard.cc:210] This TensorFlow binary is optimized to use available CPU instructions in performance-critical operations.\n",
      "To enable the following instructions: AVX2 FMA, in other operations, rebuild TensorFlow with the appropriate compiler flags.\n"
     ]
    }
   ],
   "source": [
    "import tensorflow\n",
    "import pandas as pd\n",
    "import numpy as np\n",
    "from tensorflow import keras\n",
    "from tensorflow.keras import layers\n",
    "import matplotlib.pyplot as plt"
   ]
  },
  {
   "cell_type": "code",
   "execution_count": 2,
   "metadata": {},
   "outputs": [],
   "source": [
    "model = keras.models.load_model(\"trained_model.keras\")\n",
    "model_big = keras.models.load_model(\"trained_model_big.keras\")\n",
    "model_leaky = keras.models.load_model(\"trained_model_leaky.keras\")\n",
    "\n",
    "# Load the test data\n",
    "data_frame = pd.read_csv(\"testing_data.csv\")\n",
    "\n",
    "y_test = data_frame[[\"wind_dir_deg\", \"wind_spd_kmh\", \"gust_kmh\"]].to_numpy()\n",
    "x_test = data_frame.drop(\n",
    "    columns=[\"wind_dir_deg\", \"wind_spd_kmh\", \"gust_kmh\", \"time\"]\n",
    ").to_numpy()"
   ]
  },
  {
   "cell_type": "code",
   "execution_count": null,
   "metadata": {},
   "outputs": [],
   "source": [
    "# Predict x_test from y_test using the models\n",
    "predicted_x_model = model.predict(y_test)\n",
    "predicted_x_model_big = model_big.predict(y_test)\n",
    "predicted_x_model_leaky = model_leaky.predict(y_test)\n",
    "\n",
    "# Plot the actual vs predicted values for comparison\n",
    "plt.figure(figsize=(15, 5))\n",
    "\n",
    "# Plot for the first model\n",
    "plt.subplot(1, 3, 1)\n",
    "plt.plot(x_test.flatten(), label=\"Actual x_test\", alpha=0.7)\n",
    "plt.plot(predicted_x_model.flatten(), label=\"Predicted x_test (model)\", alpha=0.7)\n",
    "plt.title(\"Model\")\n",
    "plt.legend()\n",
    "\n",
    "# Plot for the second model\n",
    "plt.subplot(1, 3, 2)\n",
    "plt.plot(x_test.flatten(), label=\"Actual x_test\", alpha=0.7)\n",
    "plt.plot(predicted_x_model_big.flatten(), label=\"Predicted x_test (model_big)\", alpha=0.7)\n",
    "plt.title(\"Model Big\")\n",
    "plt.legend()\n",
    "\n",
    "# Plot for the third model\n",
    "plt.subplot(1, 3, 3)\n",
    "plt.plot(x_test.flatten(), label=\"Actual x_test\", alpha=0.7)\n",
    "plt.plot(predicted_x_model_leaky.flatten(), label=\"Predicted x_test (model_leaky)\", alpha=0.7)\n",
    "plt.title(\"Model Leaky\")\n",
    "plt.legend()\n",
    "\n",
    "plt.tight_layout()\n",
    "plt.show()"
   ]
  }
 ],
 "metadata": {
  "kernelspec": {
   "display_name": "Python 3",
   "language": "python",
   "name": "python3"
  },
  "language_info": {
   "codemirror_mode": {
    "name": "ipython",
    "version": 3
   },
   "file_extension": ".py",
   "mimetype": "text/x-python",
   "name": "python",
   "nbconvert_exporter": "python",
   "pygments_lexer": "ipython3",
   "version": "3.12.9"
  }
 },
 "nbformat": 4,
 "nbformat_minor": 2
}
