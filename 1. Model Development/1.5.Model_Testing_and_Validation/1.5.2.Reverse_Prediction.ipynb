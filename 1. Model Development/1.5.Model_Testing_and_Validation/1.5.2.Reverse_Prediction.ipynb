{
 "cells": [
  {
   "cell_type": "markdown",
   "metadata": {},
   "source": [
    "# Reverse Prediction"
   ]
  },
  {
   "cell_type": "code",
   "execution_count": 1,
   "metadata": {},
   "outputs": [],
   "source": [
    "import tensorflow\n",
    "import pandas as pd\n",
    "import numpy as np\n",
    "from tensorflow import keras\n",
    "from tensorflow.keras import layers\n",
    "import matplotlib.pyplot as plt"
   ]
  },
  {
   "cell_type": "code",
   "execution_count": 2,
   "metadata": {},
   "outputs": [],
   "source": [
    "model = keras.models.load_model(\"trained_model.keras\")\n",
    "model_big = keras.models.load_model(\"trained_model_big.keras\")\n",
    "model_leaky = keras.models.load_model(\"trained_model_leaky.keras\")\n",
    "\n",
    "# Load the test data\n",
    "data_frame = pd.read_csv(\"testing_data.csv\")\n",
    "\n",
    "y_test = data_frame[[\"wind_dir_deg\", \"wind_spd_kmh\", \"gust_kmh\"]].to_numpy()\n",
    "x_test = data_frame.drop(\n",
    "    columns=[\"wind_dir_deg\", \"wind_spd_kmh\", \"gust_kmh\", \"time\"]\n",
    ").to_numpy()"
   ]
  },
  {
   "cell_type": "code",
   "execution_count": null,
   "metadata": {},
   "outputs": [],
   "source": [
    "# Predict x_test from y_test using the models\n",
    "predicted_x_model = model.predict(y_test)\n",
    "predicted_x_model_big = model_big.predict(y_test)\n",
    "predicted_x_model_leaky = model_leaky.predict(y_test)\n",
    "\n",
    "# Plot the actual vs predicted values for comparison\n",
    "plt.figure(figsize=(15, 5))\n",
    "\n",
    "# Plot for the first model\n",
    "plt.subplot(1, 3, 1)\n",
    "plt.plot(x_test.flatten(), label=\"Actual x_test\", alpha=0.7)\n",
    "plt.plot(predicted_x_model.flatten(), label=\"Predicted x_test (model)\", alpha=0.7)\n",
    "plt.title(\"Model\")\n",
    "plt.legend()\n",
    "\n",
    "# Plot for the second model\n",
    "plt.subplot(1, 3, 2)\n",
    "plt.plot(x_test.flatten(), label=\"Actual x_test\", alpha=0.7)\n",
    "plt.plot(predicted_x_model_big.flatten(), label=\"Predicted x_test (model_big)\", alpha=0.7)\n",
    "plt.title(\"Model Big\")\n",
    "plt.legend()\n",
    "\n",
    "# Plot for the third model\n",
    "plt.subplot(1, 3, 3)\n",
    "plt.plot(x_test.flatten(), label=\"Actual x_test\", alpha=0.7)\n",
    "plt.plot(predicted_x_model_leaky.flatten(), label=\"Predicted x_test (model_leaky)\", alpha=0.7)\n",
    "plt.title(\"Model Leaky\")\n",
    "plt.legend()\n",
    "\n",
    "plt.tight_layout()\n",
    "plt.show()"
   ]
  }
 ],
 "metadata": {
  "kernelspec": {
   "display_name": "Python 3",
   "language": "python",
   "name": "python3"
  },
  "language_info": {
   "codemirror_mode": {
    "name": "ipython",
    "version": 3
   },
   "file_extension": ".py",
   "mimetype": "text/x-python",
   "name": "python",
   "nbconvert_exporter": "python",
   "pygments_lexer": "ipython3",
   "version": "3.12.9"
  }
 },
 "nbformat": 4,
 "nbformat_minor": 2
}
