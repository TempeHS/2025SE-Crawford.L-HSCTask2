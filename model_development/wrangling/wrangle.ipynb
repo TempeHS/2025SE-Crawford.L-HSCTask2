{
 "cells": [
  {
   "cell_type": "markdown",
   "metadata": {},
   "source": [
    "# Data Wrangling\n",
    "\n"
   ]
  },
  {
   "cell_type": "markdown",
   "metadata": {},
   "source": [
    "### Import the libraries\n",
    "\n",
    "We will be mostly using `pandas`."
   ]
  },
  {
   "cell_type": "code",
   "execution_count": 1,
   "metadata": {},
   "outputs": [],
   "source": [
    "import pandas as pd"
   ]
  },
  {
   "cell_type": "markdown",
   "metadata": {},
   "source": [
    "### Load the file"
   ]
  },
  {
   "cell_type": "code",
   "execution_count": 2,
   "metadata": {},
   "outputs": [],
   "source": [
    "data_frame = pd.read_csv(\"raw_data.csv\")"
   ]
  },
  {
   "cell_type": "markdown",
   "metadata": {},
   "source": [
    "## Null values"
   ]
  },
  {
   "cell_type": "code",
   "execution_count": 3,
   "metadata": {},
   "outputs": [
    {
     "data": {
      "text/plain": [
       "time                   0\n",
       "wmo                    0\n",
       "name                   0\n",
       "history_product        0\n",
       "air_temp               0\n",
       "apparent_t             9\n",
       "dewpt                  0\n",
       "rel_hum                0\n",
       "delta_t                0\n",
       "wind_dir_deg           9\n",
       "wind_spd_kmh           9\n",
       "gust_kmh              16\n",
       "rain_trace           262\n",
       "rain_ten              30\n",
       "rain_hour             59\n",
       "duration_from_9am    262\n",
       "press                  3\n",
       "lat                    0\n",
       "lon                    0\n",
       "location               0\n",
       "dtype: int64"
      ]
     },
     "execution_count": 3,
     "metadata": {},
     "output_type": "execute_result"
    }
   ],
   "source": [
    "# Check for missing values\n",
    "data_frame.isnull().sum()"
   ]
  },
  {
   "cell_type": "code",
   "execution_count": 4,
   "metadata": {},
   "outputs": [
    {
     "data": {
      "text/plain": [
       "time                 0\n",
       "wmo                  0\n",
       "name                 0\n",
       "history_product      0\n",
       "air_temp             0\n",
       "apparent_t           0\n",
       "dewpt                0\n",
       "rel_hum              0\n",
       "delta_t              0\n",
       "wind_dir_deg         0\n",
       "wind_spd_kmh         0\n",
       "gust_kmh             0\n",
       "rain_trace           0\n",
       "rain_ten             0\n",
       "rain_hour            0\n",
       "duration_from_9am    0\n",
       "press                0\n",
       "lat                  0\n",
       "lon                  0\n",
       "location             0\n",
       "dtype: int64"
      ]
     },
     "execution_count": 4,
     "metadata": {},
     "output_type": "execute_result"
    }
   ],
   "source": [
    "# Remove Null values\n",
    "data_frame = data_frame.dropna()\n",
    "data_frame.isnull().sum()"
   ]
  },
  {
   "cell_type": "markdown",
   "metadata": {},
   "source": [
    "## Duplicate Values"
   ]
  },
  {
   "cell_type": "code",
   "execution_count": 5,
   "metadata": {},
   "outputs": [
    {
     "data": {
      "text/plain": [
       "np.int64(0)"
      ]
     },
     "execution_count": 5,
     "metadata": {},
     "output_type": "execute_result"
    }
   ],
   "source": [
    "# Find duplicates\n",
    "data_frame.duplicated().sum()"
   ]
  },
  {
   "cell_type": "code",
   "execution_count": 6,
   "metadata": {},
   "outputs": [
    {
     "data": {
      "text/plain": [
       "np.int64(0)"
      ]
     },
     "execution_count": 6,
     "metadata": {},
     "output_type": "execute_result"
    }
   ],
   "source": [
    "# Remove duplicates\n",
    "data_frame = data_frame.drop_duplicates()\n",
    "data_frame.duplicated().sum()"
   ]
  },
  {
   "cell_type": "markdown",
   "metadata": {},
   "source": [
    "## Time Management"
   ]
  },
  {
   "cell_type": "code",
   "execution_count": 7,
   "metadata": {},
   "outputs": [
    {
     "name": "stdout",
     "output_type": "stream",
     "text": [
      "0        2024-06-30T15:00:00+10:00\n",
      "1        2025-02-08T23:00:00+11:00\n",
      "2        2025-02-08T19:30:00+11:00\n",
      "3        2025-02-09T02:00:00+11:00\n",
      "4        2025-02-08T23:30:00+11:00\n",
      "                   ...            \n",
      "13642    2025-03-08T09:00:00+11:00\n",
      "13643    2025-03-08T08:30:00+11:00\n",
      "13644    2025-03-08T10:00:00+11:00\n",
      "13645    2025-03-08T09:30:00+11:00\n",
      "13646    2025-03-08T10:30:00+11:00\n",
      "Name: time, Length: 13353, dtype: object\n"
     ]
    }
   ],
   "source": [
    "# Show time values\n",
    "print(data_frame['time'])"
   ]
  },
  {
   "cell_type": "code",
   "execution_count": 8,
   "metadata": {},
   "outputs": [
    {
     "name": "stdout",
     "output_type": "stream",
     "text": [
      "0        2024-06-30T15:00:00\n",
      "1        2025-02-08T23:00:00\n",
      "2        2025-02-08T19:30:00\n",
      "3        2025-02-09T02:00:00\n",
      "4        2025-02-08T23:30:00\n",
      "                ...         \n",
      "13642    2025-03-08T09:00:00\n",
      "13643    2025-03-08T08:30:00\n",
      "13644    2025-03-08T10:00:00\n",
      "13645    2025-03-08T09:30:00\n",
      "13646    2025-03-08T10:30:00\n",
      "Name: time, Length: 13353, dtype: object\n"
     ]
    }
   ],
   "source": [
    "# Remove timezone from time values\n",
    "data_frame[\"time\"] = data_frame[\"time\"].astype(str)\n",
    "data_frame[\"time\"] = data_frame[\"time\"].str.replace(r'\\+\\d{2}:\\d{2}', '', regex=True)\n",
    "print(data_frame['time'])"
   ]
  },
  {
   "cell_type": "code",
   "execution_count": 9,
   "metadata": {},
   "outputs": [
    {
     "name": "stdout",
     "output_type": "stream",
     "text": [
      "0        2024-06-30 15:00:00\n",
      "1        2025-02-08 23:00:00\n",
      "2        2025-02-08 19:30:00\n",
      "3        2025-02-09 02:00:00\n",
      "4        2025-02-08 23:30:00\n",
      "                ...         \n",
      "13642    2025-03-08 09:00:00\n",
      "13643    2025-03-08 08:30:00\n",
      "13644    2025-03-08 10:00:00\n",
      "13645    2025-03-08 09:30:00\n",
      "13646    2025-03-08 10:30:00\n",
      "Name: time, Length: 13353, dtype: object\n"
     ]
    }
   ],
   "source": [
    "# Remove T from time values\n",
    "data_frame['time'] = data_frame['time'].str.replace('T', ' ')\n",
    "print(data_frame['time'])"
   ]
  },
  {
   "cell_type": "code",
   "execution_count": 10,
   "metadata": {},
   "outputs": [
    {
     "name": "stdout",
     "output_type": "stream",
     "text": [
      "0        1719759600\n",
      "1        1739055600\n",
      "2        1739043000\n",
      "3        1739066400\n",
      "4        1739057400\n",
      "            ...    \n",
      "13642    1741424400\n",
      "13643    1741422600\n",
      "13644    1741428000\n",
      "13645    1741426200\n",
      "13646    1741429800\n",
      "Name: time, Length: 13353, dtype: int64\n"
     ]
    }
   ],
   "source": [
    "# Convert values into UNIX timestamp in seconds\n",
    "data_frame['time'] = pd.to_datetime(data_frame['time'])\n",
    "data_frame['time'] = data_frame['time'].astype(int) // 10**9\n",
    "print(data_frame['time'])"
   ]
  },
  {
   "cell_type": "code",
   "execution_count": 11,
   "metadata": {},
   "outputs": [
    {
     "name": "stdout",
     "output_type": "stream",
     "text": [
      "             time    wmo            name history_product  air_temp  \\\n",
      "4858   1715617800  94767  Sydney Airport        IDN60910      19.3   \n",
      "4859   1715619600  94767  Sydney Airport        IDN60910      18.9   \n",
      "2451   1715621400  94767  Sydney Airport        IDN60910      18.7   \n",
      "4861   1715623200  94767  Sydney Airport        IDN60910      18.4   \n",
      "4863   1715625000  94767  Sydney Airport        IDN60910      18.0   \n",
      "...           ...    ...             ...             ...       ...   \n",
      "13645  1741426200  94767  Sydney Airport        IDN60910      25.0   \n",
      "13644  1741428000  94767  Sydney Airport        IDN60910      24.9   \n",
      "13646  1741429800  94767  Sydney Airport        IDN60910      25.4   \n",
      "12506  1741431600  94767  Sydney Airport        IDN60910      26.1   \n",
      "13541  1741433400  94767  Sydney Airport        IDN60910      25.9   \n",
      "\n",
      "       apparent_t  dewpt  rel_hum  delta_t  wind_dir_deg  wind_spd_kmh  \\\n",
      "4858         16.1   15.2       77      2.4         195.0          26.0   \n",
      "4859         16.9   15.4       80      2.1         203.0          20.0   \n",
      "2451         16.7   15.0       79      2.2         209.0          19.0   \n",
      "4861         16.8   15.1       81      1.9         213.0          17.0   \n",
      "4863         16.7   14.7       81      1.9         230.0          15.0   \n",
      "...           ...    ...      ...      ...           ...           ...   \n",
      "13645        23.2   18.7       68      4.0          82.0          26.0   \n",
      "13644        23.1   17.9       65      4.4         100.0          24.0   \n",
      "13646        22.3   17.6       62      4.9          82.0          30.0   \n",
      "12506        24.0   18.0       61      5.1          78.0          26.0   \n",
      "13541        22.0   17.0       58      5.5          81.0          33.0   \n",
      "\n",
      "       gust_kmh  rain_trace  rain_ten  rain_hour  duration_from_9am   press  \\\n",
      "4858       32.0         0.0       0.0        0.0              450.0  1019.7   \n",
      "4859       28.0         0.0       0.0        0.0              480.0  1019.8   \n",
      "2451       22.0         0.0       0.0        0.0              510.0  1020.2   \n",
      "4861       20.0         0.0       0.0        0.0              540.0  1020.6   \n",
      "4863       17.0         0.0       0.0        0.0              570.0  1020.9   \n",
      "...         ...         ...       ...        ...                ...     ...   \n",
      "13645      33.0         0.0       0.0        0.0               30.0  1022.8   \n",
      "13644      33.0         0.0       0.0        0.0               60.0  1023.1   \n",
      "13646      37.0         0.0       0.0        0.0               90.0  1023.2   \n",
      "12506      33.0         0.0       0.0        0.0              120.0  1023.0   \n",
      "13541      43.0         0.2       0.2        0.2              150.0  1023.0   \n",
      "\n",
      "           lat       lon            location  \n",
      "4858  -33.9465  151.1731  -33.9465, 151.1731  \n",
      "4859  -33.9465  151.1731  -33.9465, 151.1731  \n",
      "2451  -33.9465  151.1731  -33.9465, 151.1731  \n",
      "4861  -33.9465  151.1731  -33.9465, 151.1731  \n",
      "4863  -33.9465  151.1731  -33.9465, 151.1731  \n",
      "...        ...       ...                 ...  \n",
      "13645 -33.9465  151.1731  -33.9465, 151.1731  \n",
      "13644 -33.9465  151.1731  -33.9465, 151.1731  \n",
      "13646 -33.9465  151.1731  -33.9465, 151.1731  \n",
      "12506 -33.9465  151.1731  -33.9465, 151.1731  \n",
      "13541 -33.9465  151.1731  -33.9465, 151.1731  \n",
      "\n",
      "[13353 rows x 20 columns]\n"
     ]
    }
   ],
   "source": [
    "# Sort values by time\n",
    "data_frame = data_frame.sort_values(by='time')\n",
    "print(data_frame)"
   ]
  },
  {
   "cell_type": "markdown",
   "metadata": {},
   "source": [
    "## Removing Unneeded Columns"
   ]
  },
  {
   "cell_type": "code",
   "execution_count": 12,
   "metadata": {},
   "outputs": [
    {
     "name": "stdout",
     "output_type": "stream",
     "text": [
      "             time  air_temp  apparent_t  dewpt  rel_hum  delta_t  \\\n",
      "4858   1715617800      19.3        16.1   15.2       77      2.4   \n",
      "4859   1715619600      18.9        16.9   15.4       80      2.1   \n",
      "2451   1715621400      18.7        16.7   15.0       79      2.2   \n",
      "4861   1715623200      18.4        16.8   15.1       81      1.9   \n",
      "4863   1715625000      18.0        16.7   14.7       81      1.9   \n",
      "...           ...       ...         ...    ...      ...      ...   \n",
      "13645  1741426200      25.0        23.2   18.7       68      4.0   \n",
      "13644  1741428000      24.9        23.1   17.9       65      4.4   \n",
      "13646  1741429800      25.4        22.3   17.6       62      4.9   \n",
      "12506  1741431600      26.1        24.0   18.0       61      5.1   \n",
      "13541  1741433400      25.9        22.0   17.0       58      5.5   \n",
      "\n",
      "       wind_dir_deg  wind_spd_kmh  gust_kmh  rain_trace  rain_ten  rain_hour  \\\n",
      "4858          195.0          26.0      32.0         0.0       0.0        0.0   \n",
      "4859          203.0          20.0      28.0         0.0       0.0        0.0   \n",
      "2451          209.0          19.0      22.0         0.0       0.0        0.0   \n",
      "4861          213.0          17.0      20.0         0.0       0.0        0.0   \n",
      "4863          230.0          15.0      17.0         0.0       0.0        0.0   \n",
      "...             ...           ...       ...         ...       ...        ...   \n",
      "13645          82.0          26.0      33.0         0.0       0.0        0.0   \n",
      "13644         100.0          24.0      33.0         0.0       0.0        0.0   \n",
      "13646          82.0          30.0      37.0         0.0       0.0        0.0   \n",
      "12506          78.0          26.0      33.0         0.0       0.0        0.0   \n",
      "13541          81.0          33.0      43.0         0.2       0.2        0.2   \n",
      "\n",
      "       duration_from_9am   press  \n",
      "4858               450.0  1019.7  \n",
      "4859               480.0  1019.8  \n",
      "2451               510.0  1020.2  \n",
      "4861               540.0  1020.6  \n",
      "4863               570.0  1020.9  \n",
      "...                  ...     ...  \n",
      "13645               30.0  1022.8  \n",
      "13644               60.0  1023.1  \n",
      "13646               90.0  1023.2  \n",
      "12506              120.0  1023.0  \n",
      "13541              150.0  1023.0  \n",
      "\n",
      "[13353 rows x 14 columns]\n"
     ]
    }
   ],
   "source": [
    "# Drop columns that are not needed\n",
    "\"\"\"\n",
    "Icluded columns:\n",
    "- wmo\n",
    "- name\n",
    "- history_product\n",
    "- lat\n",
    "- lon\n",
    "- location\n",
    "\"\"\"\n",
    "\n",
    "data_frame = data_frame.drop(columns=['wmo', 'name', 'history_product', 'lat', 'lon', 'location'])\n",
    "print(data_frame)"
   ]
  }
 ],
 "metadata": {
  "kernelspec": {
   "display_name": "Python 3",
   "language": "python",
   "name": "python3"
  },
  "language_info": {
   "codemirror_mode": {
    "name": "ipython",
    "version": 3
   },
   "file_extension": ".py",
   "mimetype": "text/x-python",
   "name": "python",
   "nbconvert_exporter": "python",
   "pygments_lexer": "ipython3",
   "version": "3.12.9"
  }
 },
 "nbformat": 4,
 "nbformat_minor": 2
}
